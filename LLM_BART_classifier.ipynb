{
 "cells": [
  {
   "cell_type": "code",
   "execution_count": 2,
   "metadata": {},
   "outputs": [
    {
     "name": "stdout",
     "output_type": "stream",
     "text": [
      "Defaulting to user installation because normal site-packages is not writeable\n",
      "Requirement already satisfied: transformers in /Users/lekshmanannatarajan/.local/lib/python3.10/site-packages (from -r requirements.txt (line 1)) (4.47.1)\n",
      "Requirement already satisfied: filelock in /Users/lekshmanannatarajan/.local/lib/python3.10/site-packages (from transformers->-r requirements.txt (line 1)) (3.16.1)\n",
      "Requirement already satisfied: huggingface-hub<1.0,>=0.24.0 in /Users/lekshmanannatarajan/.local/lib/python3.10/site-packages (from transformers->-r requirements.txt (line 1)) (0.26.5)\n",
      "Requirement already satisfied: numpy>=1.17 in /Users/lekshmanannatarajan/.local/lib/python3.10/site-packages (from transformers->-r requirements.txt (line 1)) (1.26.4)\n",
      "Requirement already satisfied: packaging>=20.0 in /Users/lekshmanannatarajan/.local/lib/python3.10/site-packages (from transformers->-r requirements.txt (line 1)) (24.2)\n",
      "Requirement already satisfied: pyyaml>=5.1 in /Users/lekshmanannatarajan/.local/lib/python3.10/site-packages (from transformers->-r requirements.txt (line 1)) (6.0.2)\n",
      "Requirement already satisfied: regex!=2019.12.17 in /Users/lekshmanannatarajan/.local/lib/python3.10/site-packages (from transformers->-r requirements.txt (line 1)) (2024.11.6)\n",
      "Requirement already satisfied: requests in /Users/lekshmanannatarajan/.local/lib/python3.10/site-packages (from transformers->-r requirements.txt (line 1)) (2.32.3)\n",
      "Requirement already satisfied: tokenizers<0.22,>=0.21 in /Users/lekshmanannatarajan/.local/lib/python3.10/site-packages (from transformers->-r requirements.txt (line 1)) (0.21.0)\n",
      "Requirement already satisfied: safetensors>=0.4.1 in /Users/lekshmanannatarajan/.local/lib/python3.10/site-packages (from transformers->-r requirements.txt (line 1)) (0.4.5)\n",
      "Requirement already satisfied: tqdm>=4.27 in /Users/lekshmanannatarajan/.local/lib/python3.10/site-packages (from transformers->-r requirements.txt (line 1)) (4.67.1)\n",
      "Requirement already satisfied: fsspec>=2023.5.0 in /Users/lekshmanannatarajan/.local/lib/python3.10/site-packages (from huggingface-hub<1.0,>=0.24.0->transformers->-r requirements.txt (line 1)) (2024.9.0)\n",
      "Requirement already satisfied: typing-extensions>=3.7.4.3 in /Users/lekshmanannatarajan/.local/lib/python3.10/site-packages (from huggingface-hub<1.0,>=0.24.0->transformers->-r requirements.txt (line 1)) (4.12.2)\n",
      "Requirement already satisfied: charset-normalizer<4,>=2 in /Users/lekshmanannatarajan/.local/lib/python3.10/site-packages (from requests->transformers->-r requirements.txt (line 1)) (3.4.0)\n",
      "Requirement already satisfied: idna<4,>=2.5 in /Users/lekshmanannatarajan/.local/lib/python3.10/site-packages (from requests->transformers->-r requirements.txt (line 1)) (3.10)\n",
      "Requirement already satisfied: urllib3<3,>=1.21.1 in /Users/lekshmanannatarajan/.local/lib/python3.10/site-packages (from requests->transformers->-r requirements.txt (line 1)) (2.2.3)\n",
      "Requirement already satisfied: certifi>=2017.4.17 in /Users/lekshmanannatarajan/.local/lib/python3.10/site-packages (from requests->transformers->-r requirements.txt (line 1)) (2024.12.14)\n"
     ]
    }
   ],
   "source": [
    "!pip3.10 install -r requirements.txt\n",
    "# !pip3.10 install transformers -U\n",
    "\n",
    "# !ollama pull llava-phi3\n",
    "# !ollama pull llama3.2-vision \n",
    "# !ollama pull moondream\n",
    "# !ollama pull llama3.2:1b\n",
    "# !ollama pull llama3.2\n",
    "# !ollama pull granite3.1-moe:3b\n",
    "# !ollama pull smollm2:1.7b\n",
    "# !ollama pull smollm2:1.7b-instruct-fp16"
   ]
  },
  {
   "cell_type": "code",
   "execution_count": null,
   "metadata": {},
   "outputs": [
    {
     "name": "stderr",
     "output_type": "stream",
     "text": [
      "/Users/lekshmanannatarajan/.local/lib/python3.10/site-packages/tqdm/auto.py:21: TqdmWarning: IProgress not found. Please update jupyter and ipywidgets. See https://ipywidgets.readthedocs.io/en/stable/user_install.html\n",
      "  from .autonotebook import tqdm as notebook_tqdm\n"
     ]
    }
   ],
   "source": [
    "from transformers import pipeline\n",
    "classifier = pipeline(\"zero-shot-classification\",\n",
    "                      model=\"facebook/bart-large-mnli\")"
   ]
  },
  {
   "cell_type": "code",
   "execution_count": null,
   "metadata": {},
   "outputs": [],
   "source": [
    "sequence_to_classify = \"one day I will see the world\"\n",
    "candidate_labels = ['travel', 'cooking', 'dancing']\n",
    "classifier(sequence_to_classify, candidate_labels)"
   ]
  }
 ],
 "metadata": {
  "kernelspec": {
   "display_name": "Python 3",
   "language": "python",
   "name": "python3"
  },
  "language_info": {
   "codemirror_mode": {
    "name": "ipython",
    "version": 3
   },
   "file_extension": ".py",
   "mimetype": "text/x-python",
   "name": "python",
   "nbconvert_exporter": "python",
   "pygments_lexer": "ipython3",
   "version": "3.10.16"
  }
 },
 "nbformat": 4,
 "nbformat_minor": 2
}
